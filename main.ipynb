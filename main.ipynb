{
 "cells": [
  {
   "cell_type": "code",
   "execution_count": 1,
   "metadata": {},
   "outputs": [],
   "source": [
    "import pandas as pd\n",
    "import numpy as np\n",
    "from datetime import datetime"
   ]
  },
  {
   "cell_type": "code",
   "execution_count": 3,
   "metadata": {},
   "outputs": [
    {
     "data": {
      "text/html": [
       "<div>\n",
       "<style scoped>\n",
       "    .dataframe tbody tr th:only-of-type {\n",
       "        vertical-align: middle;\n",
       "    }\n",
       "\n",
       "    .dataframe tbody tr th {\n",
       "        vertical-align: top;\n",
       "    }\n",
       "\n",
       "    .dataframe thead th {\n",
       "        text-align: right;\n",
       "    }\n",
       "</style>\n",
       "<table border=\"1\" class=\"dataframe\">\n",
       "  <thead>\n",
       "    <tr style=\"text-align: right;\">\n",
       "      <th></th>\n",
       "      <th>Epoch Time</th>\n",
       "      <th>Value</th>\n",
       "    </tr>\n",
       "  </thead>\n",
       "  <tbody>\n",
       "    <tr>\n",
       "      <th>0</th>\n",
       "      <td>1704042000000</td>\n",
       "      <td>1</td>\n",
       "    </tr>\n",
       "    <tr>\n",
       "      <th>1</th>\n",
       "      <td>1704042026000</td>\n",
       "      <td>1</td>\n",
       "    </tr>\n",
       "    <tr>\n",
       "      <th>2</th>\n",
       "      <td>1704042035000</td>\n",
       "      <td>1</td>\n",
       "    </tr>\n",
       "    <tr>\n",
       "      <th>3</th>\n",
       "      <td>1704042037000</td>\n",
       "      <td>1</td>\n",
       "    </tr>\n",
       "    <tr>\n",
       "      <th>4</th>\n",
       "      <td>1704042059000</td>\n",
       "      <td>1</td>\n",
       "    </tr>\n",
       "    <tr>\n",
       "      <th>...</th>\n",
       "      <td>...</td>\n",
       "      <td>...</td>\n",
       "    </tr>\n",
       "    <tr>\n",
       "      <th>7214</th>\n",
       "      <td>1704128340000</td>\n",
       "      <td>1</td>\n",
       "    </tr>\n",
       "    <tr>\n",
       "      <th>7215</th>\n",
       "      <td>1704128361000</td>\n",
       "      <td>1</td>\n",
       "    </tr>\n",
       "    <tr>\n",
       "      <th>7216</th>\n",
       "      <td>1704128378000</td>\n",
       "      <td>Null</td>\n",
       "    </tr>\n",
       "    <tr>\n",
       "      <th>7217</th>\n",
       "      <td>1704128391000</td>\n",
       "      <td>0</td>\n",
       "    </tr>\n",
       "    <tr>\n",
       "      <th>7218</th>\n",
       "      <td>1704128400000</td>\n",
       "      <td>0</td>\n",
       "    </tr>\n",
       "  </tbody>\n",
       "</table>\n",
       "<p>7219 rows × 2 columns</p>\n",
       "</div>"
      ],
      "text/plain": [
       "         Epoch Time Value\n",
       "0     1704042000000     1\n",
       "1     1704042026000     1\n",
       "2     1704042035000     1\n",
       "3     1704042037000     1\n",
       "4     1704042059000     1\n",
       "...             ...   ...\n",
       "7214  1704128340000     1\n",
       "7215  1704128361000     1\n",
       "7216  1704128378000  Null\n",
       "7217  1704128391000     0\n",
       "7218  1704128400000     0\n",
       "\n",
       "[7219 rows x 2 columns]"
      ]
     },
     "execution_count": 3,
     "metadata": {},
     "output_type": "execute_result"
    }
   ],
   "source": [
    "df = pd.read_csv('device_network_data.csv')\n",
    "df"
   ]
  },
  {
   "cell_type": "code",
   "execution_count": 4,
   "metadata": {},
   "outputs": [
    {
     "name": "stdout",
     "output_type": "stream",
     "text": [
      "<class 'pandas.core.frame.DataFrame'>\n",
      "RangeIndex: 7219 entries, 0 to 7218\n",
      "Data columns (total 2 columns):\n",
      " #   Column      Non-Null Count  Dtype \n",
      "---  ------      --------------  ----- \n",
      " 0   Epoch Time  7219 non-null   int64 \n",
      " 1   Value       7216 non-null   object\n",
      "dtypes: int64(1), object(1)\n",
      "memory usage: 112.9+ KB\n"
     ]
    }
   ],
   "source": [
    "df.info()"
   ]
  },
  {
   "cell_type": "markdown",
   "metadata": {},
   "source": [
    "After inspection above, we can get following informations:\n",
    "1. Total number of data points is 7219\n",
    "2. There are two columns: 'Epoch Time' (integer) and 'Value' (object/string)\n",
    "3. There are missing values in 'Value' column, at least 3 missing values. We will inspect this further in the next step\n",
    "\n",
    "Based on that information, we will do the following:\n",
    "1. Inspect the missing values in 'Value' column. Are there any other kind besides \"Null\" or \"NaN\"\n",
    "2. Convert 'Value' column to integer\n",
    "3. Convert 'Epoch Time' column to datetime\n",
    "\n",
    "After that, we will begin counting the total downtime in the dataset."
   ]
  },
  {
   "cell_type": "code",
   "execution_count": 5,
   "metadata": {},
   "outputs": [
    {
     "data": {
      "text/plain": [
       "array(['1', '0', 'Null', nan], dtype=object)"
      ]
     },
     "execution_count": 5,
     "metadata": {},
     "output_type": "execute_result"
    }
   ],
   "source": [
    "df.Value.unique()"
   ]
  },
  {
   "cell_type": "markdown",
   "metadata": {},
   "source": [
    "We can see that 'Value' column has 'Null' and nan values. We will inspect them further"
   ]
  },
  {
   "cell_type": "code",
   "execution_count": 6,
   "metadata": {},
   "outputs": [
    {
     "data": {
      "text/plain": [
       "Value\n",
       "1       4941\n",
       "0       2268\n",
       "Null       7\n",
       "Name: count, dtype: int64"
      ]
     },
     "execution_count": 6,
     "metadata": {},
     "output_type": "execute_result"
    }
   ],
   "source": [
    "df.Value.value_counts()"
   ]
  },
  {
   "cell_type": "code",
   "execution_count": 7,
   "metadata": {},
   "outputs": [
    {
     "data": {
      "text/html": [
       "<div>\n",
       "<style scoped>\n",
       "    .dataframe tbody tr th:only-of-type {\n",
       "        vertical-align: middle;\n",
       "    }\n",
       "\n",
       "    .dataframe tbody tr th {\n",
       "        vertical-align: top;\n",
       "    }\n",
       "\n",
       "    .dataframe thead th {\n",
       "        text-align: right;\n",
       "    }\n",
       "</style>\n",
       "<table border=\"1\" class=\"dataframe\">\n",
       "  <thead>\n",
       "    <tr style=\"text-align: right;\">\n",
       "      <th></th>\n",
       "      <th>Epoch Time</th>\n",
       "      <th>Value</th>\n",
       "    </tr>\n",
       "  </thead>\n",
       "  <tbody>\n",
       "    <tr>\n",
       "      <th>22</th>\n",
       "      <td>1704042239000</td>\n",
       "      <td>Null</td>\n",
       "    </tr>\n",
       "    <tr>\n",
       "      <th>23</th>\n",
       "      <td>1704042240000</td>\n",
       "      <td>Null</td>\n",
       "    </tr>\n",
       "    <tr>\n",
       "      <th>24</th>\n",
       "      <td>1704042264000</td>\n",
       "      <td>Null</td>\n",
       "    </tr>\n",
       "    <tr>\n",
       "      <th>445</th>\n",
       "      <td>1704046759000</td>\n",
       "      <td>Null</td>\n",
       "    </tr>\n",
       "    <tr>\n",
       "      <th>446</th>\n",
       "      <td>1704046775000</td>\n",
       "      <td>Null</td>\n",
       "    </tr>\n",
       "    <tr>\n",
       "      <th>5160</th>\n",
       "      <td>1704102803000</td>\n",
       "      <td>Null</td>\n",
       "    </tr>\n",
       "    <tr>\n",
       "      <th>7216</th>\n",
       "      <td>1704128378000</td>\n",
       "      <td>Null</td>\n",
       "    </tr>\n",
       "  </tbody>\n",
       "</table>\n",
       "</div>"
      ],
      "text/plain": [
       "         Epoch Time Value\n",
       "22    1704042239000  Null\n",
       "23    1704042240000  Null\n",
       "24    1704042264000  Null\n",
       "445   1704046759000  Null\n",
       "446   1704046775000  Null\n",
       "5160  1704102803000  Null\n",
       "7216  1704128378000  Null"
      ]
     },
     "execution_count": 7,
     "metadata": {},
     "output_type": "execute_result"
    }
   ],
   "source": [
    "df[df.Value == 'Null']"
   ]
  },
  {
   "cell_type": "code",
   "execution_count": 8,
   "metadata": {},
   "outputs": [
    {
     "data": {
      "text/html": [
       "<div>\n",
       "<style scoped>\n",
       "    .dataframe tbody tr th:only-of-type {\n",
       "        vertical-align: middle;\n",
       "    }\n",
       "\n",
       "    .dataframe tbody tr th {\n",
       "        vertical-align: top;\n",
       "    }\n",
       "\n",
       "    .dataframe thead th {\n",
       "        text-align: right;\n",
       "    }\n",
       "</style>\n",
       "<table border=\"1\" class=\"dataframe\">\n",
       "  <thead>\n",
       "    <tr style=\"text-align: right;\">\n",
       "      <th></th>\n",
       "      <th>Epoch Time</th>\n",
       "      <th>Value</th>\n",
       "    </tr>\n",
       "  </thead>\n",
       "  <tbody>\n",
       "    <tr>\n",
       "      <th>25</th>\n",
       "      <td>1704042267000</td>\n",
       "      <td>NaN</td>\n",
       "    </tr>\n",
       "    <tr>\n",
       "      <th>31</th>\n",
       "      <td>1704042336000</td>\n",
       "      <td>NaN</td>\n",
       "    </tr>\n",
       "    <tr>\n",
       "      <th>32</th>\n",
       "      <td>1704042337000</td>\n",
       "      <td>NaN</td>\n",
       "    </tr>\n",
       "  </tbody>\n",
       "</table>\n",
       "</div>"
      ],
      "text/plain": [
       "       Epoch Time Value\n",
       "25  1704042267000   NaN\n",
       "31  1704042336000   NaN\n",
       "32  1704042337000   NaN"
      ]
     },
     "execution_count": 8,
     "metadata": {},
     "output_type": "execute_result"
    }
   ],
   "source": [
    "df[df.Value.isna()]"
   ]
  },
  {
   "cell_type": "markdown",
   "metadata": {},
   "source": [
    "Now we know that our data has 10 missing values in 'Value' column. We will fill this missing values with the last non-null value before itself. "
   ]
  },
  {
   "cell_type": "code",
   "execution_count": 9,
   "metadata": {},
   "outputs": [],
   "source": [
    "df.loc[:, \"Value\"] = df.Value.replace(\"Null\", np.nan)\n",
    "df.loc[:, \"Value\"] = df.Value.ffill()"
   ]
  },
  {
   "cell_type": "code",
   "execution_count": 10,
   "metadata": {},
   "outputs": [
    {
     "data": {
      "text/plain": [
       "Value\n",
       "1    4945\n",
       "0    2274\n",
       "Name: count, dtype: int64"
      ]
     },
     "execution_count": 10,
     "metadata": {},
     "output_type": "execute_result"
    }
   ],
   "source": [
    "df.Value.value_counts()"
   ]
  },
  {
   "cell_type": "code",
   "execution_count": 11,
   "metadata": {},
   "outputs": [
    {
     "name": "stdout",
     "output_type": "stream",
     "text": [
      "total data points: 7219\n",
      "Unique data points: ['1' '0']\n"
     ]
    }
   ],
   "source": [
    "print(f'total data points: {df.Value.value_counts().sum()}')\n",
    "print(f'Unique data points: {df.Value.unique()}')"
   ]
  },
  {
   "cell_type": "code",
   "execution_count": 12,
   "metadata": {},
   "outputs": [
    {
     "data": {
      "text/plain": [
       "0"
      ]
     },
     "execution_count": 12,
     "metadata": {},
     "output_type": "execute_result"
    }
   ],
   "source": [
    "df.Value.isna().sum()"
   ]
  },
  {
   "cell_type": "markdown",
   "metadata": {},
   "source": [
    "Now we see that the total data points match with our first inspection. We will continue to convert 'Value' column to integer and 'Epoch Time' column to datetime"
   ]
  },
  {
   "cell_type": "code",
   "execution_count": 13,
   "metadata": {},
   "outputs": [
    {
     "data": {
      "text/html": [
       "<div>\n",
       "<style scoped>\n",
       "    .dataframe tbody tr th:only-of-type {\n",
       "        vertical-align: middle;\n",
       "    }\n",
       "\n",
       "    .dataframe tbody tr th {\n",
       "        vertical-align: top;\n",
       "    }\n",
       "\n",
       "    .dataframe thead th {\n",
       "        text-align: right;\n",
       "    }\n",
       "</style>\n",
       "<table border=\"1\" class=\"dataframe\">\n",
       "  <thead>\n",
       "    <tr style=\"text-align: right;\">\n",
       "      <th></th>\n",
       "      <th>Epoch Time</th>\n",
       "      <th>Value</th>\n",
       "      <th>date_time</th>\n",
       "    </tr>\n",
       "  </thead>\n",
       "  <tbody>\n",
       "    <tr>\n",
       "      <th>0</th>\n",
       "      <td>1704042000000</td>\n",
       "      <td>1</td>\n",
       "      <td>2024-01-01 00:00:00</td>\n",
       "    </tr>\n",
       "    <tr>\n",
       "      <th>1</th>\n",
       "      <td>1704042026000</td>\n",
       "      <td>1</td>\n",
       "      <td>2024-01-01 00:00:26</td>\n",
       "    </tr>\n",
       "    <tr>\n",
       "      <th>2</th>\n",
       "      <td>1704042035000</td>\n",
       "      <td>1</td>\n",
       "      <td>2024-01-01 00:00:35</td>\n",
       "    </tr>\n",
       "    <tr>\n",
       "      <th>3</th>\n",
       "      <td>1704042037000</td>\n",
       "      <td>1</td>\n",
       "      <td>2024-01-01 00:00:37</td>\n",
       "    </tr>\n",
       "    <tr>\n",
       "      <th>4</th>\n",
       "      <td>1704042059000</td>\n",
       "      <td>1</td>\n",
       "      <td>2024-01-01 00:00:59</td>\n",
       "    </tr>\n",
       "    <tr>\n",
       "      <th>5</th>\n",
       "      <td>1704042060000</td>\n",
       "      <td>1</td>\n",
       "      <td>2024-01-01 00:01:00</td>\n",
       "    </tr>\n",
       "    <tr>\n",
       "      <th>6</th>\n",
       "      <td>1704042070000</td>\n",
       "      <td>1</td>\n",
       "      <td>2024-01-01 00:01:10</td>\n",
       "    </tr>\n",
       "    <tr>\n",
       "      <th>7</th>\n",
       "      <td>1704042086000</td>\n",
       "      <td>0</td>\n",
       "      <td>2024-01-01 00:01:26</td>\n",
       "    </tr>\n",
       "    <tr>\n",
       "      <th>8</th>\n",
       "      <td>1704042097000</td>\n",
       "      <td>0</td>\n",
       "      <td>2024-01-01 00:01:37</td>\n",
       "    </tr>\n",
       "    <tr>\n",
       "      <th>9</th>\n",
       "      <td>1704042098000</td>\n",
       "      <td>0</td>\n",
       "      <td>2024-01-01 00:01:38</td>\n",
       "    </tr>\n",
       "  </tbody>\n",
       "</table>\n",
       "</div>"
      ],
      "text/plain": [
       "      Epoch Time  Value           date_time\n",
       "0  1704042000000      1 2024-01-01 00:00:00\n",
       "1  1704042026000      1 2024-01-01 00:00:26\n",
       "2  1704042035000      1 2024-01-01 00:00:35\n",
       "3  1704042037000      1 2024-01-01 00:00:37\n",
       "4  1704042059000      1 2024-01-01 00:00:59\n",
       "5  1704042060000      1 2024-01-01 00:01:00\n",
       "6  1704042070000      1 2024-01-01 00:01:10\n",
       "7  1704042086000      0 2024-01-01 00:01:26\n",
       "8  1704042097000      0 2024-01-01 00:01:37\n",
       "9  1704042098000      0 2024-01-01 00:01:38"
      ]
     },
     "execution_count": 13,
     "metadata": {},
     "output_type": "execute_result"
    }
   ],
   "source": [
    "df[\"Value\"] = df.Value.astype(int)\n",
    "df[\"date_time\"] = df.loc[:, \"Epoch Time\"].apply(lambda x: datetime.fromtimestamp(x / 1e3))\n",
    "\n",
    "df.head(10)"
   ]
  },
  {
   "cell_type": "code",
   "execution_count": 14,
   "metadata": {},
   "outputs": [
    {
     "name": "stdout",
     "output_type": "stream",
     "text": [
      "<class 'pandas.core.frame.DataFrame'>\n",
      "RangeIndex: 7219 entries, 0 to 7218\n",
      "Data columns (total 3 columns):\n",
      " #   Column      Non-Null Count  Dtype         \n",
      "---  ------      --------------  -----         \n",
      " 0   Epoch Time  7219 non-null   int64         \n",
      " 1   Value       7219 non-null   int32         \n",
      " 2   date_time   7219 non-null   datetime64[ns]\n",
      "dtypes: datetime64[ns](1), int32(1), int64(1)\n",
      "memory usage: 141.1 KB\n"
     ]
    }
   ],
   "source": [
    "df.info()"
   ]
  },
  {
   "cell_type": "code",
   "execution_count": 20,
   "metadata": {},
   "outputs": [],
   "source": [
    "def count_downtime(df):\n",
    "    i, total_down = 0, 0\n",
    "    while i in range(df.shape[0] - 1):\n",
    "        if df.Value[i] == 1:\n",
    "            total_down += (df.date_time[i + 1] - df.date_time[i]).seconds\n",
    "        i += 1\n",
    "\n",
    "    return total_down"
   ]
  },
  {
   "cell_type": "code",
   "execution_count": 27,
   "metadata": {},
   "outputs": [
    {
     "name": "stdout",
     "output_type": "stream",
     "text": [
      "Total Downtime: 12 seconds\n"
     ]
    }
   ],
   "source": [
    "# Check the function with the test data shown in github repo\n",
    "data_test_1 = [\n",
    "    (1704042000000, 0),\n",
    "    (1704042026000, 1),\n",
    "    (1704042035000, 1),\n",
    "    (1704042037000, 0),\n",
    "    (1704042059000, 1),\n",
    "    (1704042060000, 1)\n",
    "]\n",
    "\n",
    "test1 = pd.DataFrame(data_test_1, columns=[\"epoch_time\", \"Value\"])\n",
    "test1[\"date_time\"] = test1[\"epoch_time\"].apply(lambda x: datetime.fromtimestamp(x / 1e3))\n",
    "\n",
    "print(f'Total Downtime: {count_downtime(test1)} seconds')"
   ]
  },
  {
   "cell_type": "code",
   "execution_count": 29,
   "metadata": {},
   "outputs": [
    {
     "name": "stdout",
     "output_type": "stream",
     "text": [
      "Total Downtime: 59 seconds\n"
     ]
    }
   ],
   "source": [
    "# Check the function with the test data shown in github repo\n",
    "data_test_2 = [\n",
    "    (1704042000000, 1),\n",
    "    (1704042026000, 1),\n",
    "    (1704042035000, 1),\n",
    "    (1704042037000, 1),\n",
    "    (1704042059000, 1),\n",
    "]\n",
    "\n",
    "test1 = pd.DataFrame(data_test_2, columns=[\"epoch_time\", \"Value\"])\n",
    "test1[\"date_time\"] = test1[\"epoch_time\"].apply(lambda x: datetime.fromtimestamp(x / 1e3))\n",
    "\n",
    "print(f'Total Downtime: {count_downtime(test1)} seconds')"
   ]
  },
  {
   "cell_type": "code",
   "execution_count": 43,
   "metadata": {},
   "outputs": [
    {
     "name": "stdout",
     "output_type": "stream",
     "text": [
      "Total Downtime: 58310 seconds\n",
      "or: 16 hour, 11 minutes, and 50 seconds\n"
     ]
    }
   ],
   "source": [
    "from time import gmtime, strftime\n",
    "\n",
    "# Count the downtime for the all of data\n",
    "downtime = count_downtime(df)\n",
    "print(f'Total Downtime: {downtime} seconds')\n",
    "print(f'or: {strftime(\"%H hour, %M minutes, and %S seconds\", gmtime(downtime))}')"
   ]
  }
 ],
 "metadata": {
  "kernelspec": {
   "display_name": "base",
   "language": "python",
   "name": "python3"
  },
  "language_info": {
   "codemirror_mode": {
    "name": "ipython",
    "version": 3
   },
   "file_extension": ".py",
   "mimetype": "text/x-python",
   "name": "python",
   "nbconvert_exporter": "python",
   "pygments_lexer": "ipython3",
   "version": "3.9.17"
  }
 },
 "nbformat": 4,
 "nbformat_minor": 2
}
